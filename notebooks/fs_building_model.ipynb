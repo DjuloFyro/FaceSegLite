{
 "cells": [
  {
   "cell_type": "code",
   "execution_count": 1,
   "metadata": {},
   "outputs": [],
   "source": [
    "import numpy as np\n",
    "import matplotlib.pyplot as plt\n",
    "from matplotlib.patches import Polygon\n",
    "import cv2"
   ]
  },
  {
   "cell_type": "code",
   "execution_count": 2,
   "metadata": {},
   "outputs": [],
   "source": [
    "def load_yolo_format(file_path):\n",
    "  \"\"\"\n",
    "  Loads a file in YOLO format.\n",
    "  \n",
    "  Args:\n",
    "    - file_path: path to the file to load.\n",
    "    \n",
    "  Returns:\n",
    "    - objects: list of objects in the image. Each object is represented as a\n",
    "      tuple of (class_index, (x1, y1, ..., xn, yn)).\n",
    "  \"\"\"\n",
    "  with open(file_path, 'r') as f:\n",
    "    lines = f.readlines()\n",
    "\n",
    "  objects = []\n",
    "  for line in lines:\n",
    "    data = line.strip().split()\n",
    "    class_index = int(data[0])\n",
    "    coordinates = list(map(float, data[1:]))\n",
    "    objects.append((class_index, coordinates))\n",
    "\n",
    "  return objects"
   ]
  },
  {
   "cell_type": "code",
   "execution_count": 3,
   "metadata": {},
   "outputs": [],
   "source": [
    "def get_unique_color(index):\n",
    "    \"\"\"\n",
    "    Generates a unique RGB color for a given class index.\n",
    "\n",
    "    Args:\n",
    "        - index: class index\n",
    "    \n",
    "    Returns:\n",
    "        - color: tuple of (R, G, B) values\n",
    "    \"\"\"\n",
    "    np.random.seed(index) # For reproducibility\n",
    "    return tuple(np.random.rand(3))\n",
    "\n",
    "def plot_image_with_mask(image_path, objects):\n",
    "    \"\"\"\n",
    "    Plots an image with its segmentation mask.\n",
    "\n",
    "    Args:\n",
    "        - image_path: path to the image\n",
    "        - objects: list of objects in the image. Each object is represented as a\n",
    "          tuple of (class_index, (x1, y1, ..., xn, yn)).\n",
    "    \"\"\"\n",
    "    # Read the image\n",
    "    image = cv2.imread(image_path)\n",
    "    image = cv2.cvtColor(image, cv2.COLOR_BGR2RGB)\n",
    "\n",
    "    # Plot the image\n",
    "    plt.imshow(image)\n",
    "\n",
    "    # Plot the segmentation mask for each object with a unique color\n",
    "    for index, (class_index, coordinates) in enumerate(objects):\n",
    "        num_points = len(coordinates) // 2\n",
    "        mask_points = np.array(coordinates).reshape((num_points, 2))\n",
    "        mask_points *= np.array([image.shape[1], image.shape[0]])  # Convert normalized coordinates to pixels\n",
    "        mask_points = mask_points.astype(int)\n",
    "\n",
    "        # Draw a polygon for the segmentation mask\n",
    "        color = get_unique_color(index)\n",
    "        polygon = Polygon(mask_points, closed=True, edgecolor=color, facecolor='none', linewidth=2)\n",
    "        plt.gca().add_patch(polygon)\n",
    "\n",
    "        # Fill the polygon with a unique color\n",
    "        plt.fill(mask_points[:, 0], mask_points[:, 1], color=color, alpha=0.3)\n",
    "\n",
    "    plt.axis('off')\n",
    "    plt.show()"
   ]
  },
  {
   "cell_type": "code",
   "execution_count": null,
   "metadata": {},
   "outputs": [],
   "source": [
    "dataset_path = \"fsl_dataset/FSL_masks/19_Couple_Couple_19_12.txt\"\n",
    "image_1 = load_yolo_format(dataset_path)\n",
    "\n",
    "image_path = \"fsl_dataset/FSL_images/images/19--Couple/19_Couple_Couple_19_12.jpg\"\n",
    "\n",
    "plot_image_with_mask(image_path, image_1)"
   ]
  }
 ],
 "metadata": {
  "kernelspec": {
   "display_name": "Python 3",
   "language": "python",
   "name": "python3"
  },
  "language_info": {
   "codemirror_mode": {
    "name": "ipython",
    "version": 3
   },
   "file_extension": ".py",
   "mimetype": "text/x-python",
   "name": "python",
   "nbconvert_exporter": "python",
   "pygments_lexer": "ipython3",
   "version": "3.11.6"
  }
 },
 "nbformat": 4,
 "nbformat_minor": 2
}
